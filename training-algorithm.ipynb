{
 "cells": [
  {
   "cell_type": "code",
   "execution_count": 19,
   "metadata": {},
   "outputs": [
    {
     "name": "stdout",
     "output_type": "stream",
     "text": [
      "[[  2.  48. 236.  66.   0.   2.   0.]\n",
      " [  1.  48. 260.  51.   0.   2.   1.]\n",
      " [  1.  44. 187.  49.   1.   2.   0.]\n",
      " [  2.  42. 216.  57.   1.   2.   0.]\n",
      " [  2.  56. 156.  42.   0.   2.   0.]]\n",
      "(6644,)\n",
      "[[ 1.1]\n",
      " [ 7. ]\n",
      " [ 7. ]\n",
      " ...\n",
      " [30.6]\n",
      " [23.8]\n",
      " [ 1. ]]\n",
      "[[24.48208534]\n",
      " [-7.19677906]\n",
      " [ 6.80824746]\n",
      " ...\n",
      " [ 1.86581858]\n",
      " [23.7408024 ]\n",
      " [15.45140522]]\n",
      "[[19.9]\n",
      " [ 1. ]\n",
      " [ 5.4]\n",
      " ...\n",
      " [ 2.2]\n",
      " [44.2]\n",
      " [11.6]]\n",
      "0.7551098220771375\n"
     ]
    },
    {
     "data": {
      "text/plain": [
       "['heart_risk_prediction_regression_model.sav']"
      ]
     },
     "execution_count": 19,
     "metadata": {},
     "output_type": "execute_result"
    }
   ],
   "source": [
    "import pandas as pd\n",
    "import numpy as np\n",
    "from sklearn.model_selection import train_test_split\n",
    "from sklearn.linear_model import LinearRegression\n",
    "from sklearn.metrics import r2_score\n",
    "import joblib\n",
    "\n",
    "dataset=pd.read_csv(r'C:\\Users\\UDITHA PC\\Desktop\\CM\\Heart Risk Prediction\\cardio_dataset.csv').values\n",
    "\n",
    "data=dataset[:,0:7]\n",
    "target=dataset[:,7]\n",
    "\n",
    "print(data[:5])\n",
    "print(target.shape)\n",
    "\n",
    "target=np.reshape(target,(-1,1))\n",
    "print(target)\n",
    "\n",
    "train_data,test_data,train_target,test_target=train_test_split(data,target,test_size=0.2)\n",
    "model=LinearRegression()\n",
    "model.fit(train_data,train_target)\n",
    "\n",
    "predicted_target=model.predict(test_data)\n",
    "print(predicted_target)\n",
    "print(test_target)\n",
    "\n",
    "r2=r2_score(test_target,predicted_target)\n",
    "print(r2)\n",
    "\n",
    "joblib.dump(model,'heart_risk_prediction_regression_model.sav')"
   ]
  },
  {
   "cell_type": "code",
   "execution_count": null,
   "metadata": {},
   "outputs": [],
   "source": []
  }
 ],
 "metadata": {
  "kernelspec": {
   "display_name": "Python 3",
   "language": "python",
   "name": "python3"
  },
  "language_info": {
   "codemirror_mode": {
    "name": "ipython",
    "version": 3
   },
   "file_extension": ".py",
   "mimetype": "text/x-python",
   "name": "python",
   "nbconvert_exporter": "python",
   "pygments_lexer": "ipython3",
   "version": "3.8.5"
  }
 },
 "nbformat": 4,
 "nbformat_minor": 4
}
